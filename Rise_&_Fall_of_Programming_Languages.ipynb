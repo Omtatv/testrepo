{
  "nbformat": 4,
  "nbformat_minor": 0,
  "metadata": {
    "colab": {
      "provenance": [],
      "authorship_tag": "ABX9TyO+keLy4ri1finm03SYFABW"
    },
    "kernelspec": {
      "name": "ir",
      "display_name": "R"
    },
    "language_info": {
      "name": "R"
    }
  },
  "cells": [
    {
      "cell_type": "code",
      "source": [
        "install.packages(\"DBI\")\n",
        "install.packages(\"odbc\")\n",
        "install.packages(\"RMySQL\")\n",
        "install.packages(\"tidyverse\")\n",
        "install.packages(\"dplyr\")\n",
        "install.packages(\"tidyr\")\n",
        "install.packages(\"ggplot2\")\n",
        "install.packages(\"vcd\")\n",
        "install.packages(\"caret\")\n",
        "install.packages(\"shiny\")\n",
        "install.packages(\"R Markdown\")\n",
        "install.packages(\"data.table\")\n",
        "install.packages(\"corrplot\")"
      ],
      "metadata": {
        "colab": {
          "base_uri": "https://localhost:8080/"
        },
        "id": "LT_NTWy9kiIQ",
        "outputId": "a330ef34-85d0-4d40-f38f-26d687350f7b"
      },
      "execution_count": 4,
      "outputs": [
        {
          "output_type": "stream",
          "name": "stderr",
          "text": [
            "Installing package into ‘/usr/local/lib/R/site-library’\n",
            "(as ‘lib’ is unspecified)\n",
            "\n",
            "Installing package into ‘/usr/local/lib/R/site-library’\n",
            "(as ‘lib’ is unspecified)\n",
            "\n",
            "also installing the dependency ‘Rcpp’\n",
            "\n",
            "\n",
            "Installing package into ‘/usr/local/lib/R/site-library’\n",
            "(as ‘lib’ is unspecified)\n",
            "\n",
            "Installing package into ‘/usr/local/lib/R/site-library’\n",
            "(as ‘lib’ is unspecified)\n",
            "\n",
            "Installing package into ‘/usr/local/lib/R/site-library’\n",
            "(as ‘lib’ is unspecified)\n",
            "\n",
            "Installing package into ‘/usr/local/lib/R/site-library’\n",
            "(as ‘lib’ is unspecified)\n",
            "\n",
            "Installing package into ‘/usr/local/lib/R/site-library’\n",
            "(as ‘lib’ is unspecified)\n",
            "\n",
            "Installing package into ‘/usr/local/lib/R/site-library’\n",
            "(as ‘lib’ is unspecified)\n",
            "\n",
            "also installing the dependencies ‘zoo’, ‘lmtest’\n",
            "\n",
            "\n",
            "Installing package into ‘/usr/local/lib/R/site-library’\n",
            "(as ‘lib’ is unspecified)\n",
            "\n",
            "also installing the dependencies ‘listenv’, ‘parallelly’, ‘future’, ‘globals’, ‘shape’, ‘future.apply’, ‘numDeriv’, ‘progressr’, ‘SQUAREM’, ‘diagram’, ‘lava’, ‘prodlim’, ‘proxy’, ‘iterators’, ‘clock’, ‘gower’, ‘hardhat’, ‘ipred’, ‘timeDate’, ‘e1071’, ‘foreach’, ‘ModelMetrics’, ‘plyr’, ‘pROC’, ‘recipes’, ‘reshape2’\n",
            "\n",
            "\n",
            "Installing package into ‘/usr/local/lib/R/site-library’\n",
            "(as ‘lib’ is unspecified)\n",
            "\n",
            "also installing the dependencies ‘httpuv’, ‘xtable’, ‘sourcetools’, ‘later’, ‘promises’\n",
            "\n",
            "\n",
            "Installing package into ‘/usr/local/lib/R/site-library’\n",
            "(as ‘lib’ is unspecified)\n",
            "\n",
            "Warning message:\n",
            "“package ‘R Markdown’ is not available for this version of R\n",
            "\n",
            "A version of this package for your version of R might be available elsewhere,\n",
            "see the ideas at\n",
            "https://cran.r-project.org/doc/manuals/r-patched/R-admin.html#Installing-packages”\n",
            "Installing package into ‘/usr/local/lib/R/site-library’\n",
            "(as ‘lib’ is unspecified)\n",
            "\n",
            "Installing package into ‘/usr/local/lib/R/site-library’\n",
            "(as ‘lib’ is unspecified)\n",
            "\n"
          ]
        }
      ]
    },
    {
      "cell_type": "markdown",
      "source": [
        "Rise and Fall of Programming Languages"
      ],
      "metadata": {
        "id": "6z_rBFHU91PT"
      }
    },
    {
      "cell_type": "code",
      "source": [
        "# Load the readr and dplyr packages.\n",
        "library(readr)\n",
        "library(dplyr)"
      ],
      "metadata": {
        "id": "kk6oIP039h82"
      },
      "execution_count": 25,
      "outputs": []
    },
    {
      "cell_type": "code",
      "source": [
        "# Load the dataset datasets/by_tag_year.csv into a variable named by_tag_year using the read_csv() function (not read.csv()).\n",
        "by_tag_year <- read_csv(\"by_tag_year.csv\")"
      ],
      "metadata": {
        "colab": {
          "base_uri": "https://localhost:8080/"
        },
        "id": "-LxTN_qy9nsv",
        "outputId": "a6e19cf7-d50f-4595-eddf-2b590c891a2b"
      },
      "execution_count": 26,
      "outputs": [
        {
          "output_type": "stream",
          "name": "stderr",
          "text": [
            "\u001b[1mRows: \u001b[22m\u001b[34m40518\u001b[39m \u001b[1mColumns: \u001b[22m\u001b[34m4\u001b[39m\n",
            "\u001b[36m──\u001b[39m \u001b[1mColumn specification\u001b[22m \u001b[36m────────────────────────────────────────────────────────\u001b[39m\n",
            "\u001b[1mDelimiter:\u001b[22m \",\"\n",
            "\u001b[31mchr\u001b[39m (1): tag\n",
            "\u001b[32mdbl\u001b[39m (3): year, number, year_total\n",
            "\n",
            "\u001b[36mℹ\u001b[39m Use `spec()` to retrieve the full column specification for this data.\n",
            "\u001b[36mℹ\u001b[39m Specify the column types or set `show_col_types = FALSE` to quiet this message.\n"
          ]
        }
      ]
    },
    {
      "cell_type": "code",
      "source": [
        "# Print by_tag_year\n",
        "by_tag_year"
      ],
      "metadata": {
        "colab": {
          "base_uri": "https://localhost:8080/",
          "height": 1000
        },
        "id": "c8fLjTof9vLV",
        "outputId": "56f3fb9f-eb71-4b2e-958e-b1600c6f7aad"
      },
      "execution_count": 27,
      "outputs": [
        {
          "output_type": "display_data",
          "data": {
            "text/html": [
              "<table class=\"dataframe\">\n",
              "<caption>A spec_tbl_df: 40518 × 4</caption>\n",
              "<thead>\n",
              "\t<tr><th scope=col>year</th><th scope=col>tag</th><th scope=col>number</th><th scope=col>year_total</th></tr>\n",
              "\t<tr><th scope=col>&lt;dbl&gt;</th><th scope=col>&lt;chr&gt;</th><th scope=col>&lt;dbl&gt;</th><th scope=col>&lt;dbl&gt;</th></tr>\n",
              "</thead>\n",
              "<tbody>\n",
              "\t<tr><td>2008</td><td>.htaccess           </td><td>  54</td><td>58390</td></tr>\n",
              "\t<tr><td>2008</td><td>.net                </td><td>5910</td><td>58390</td></tr>\n",
              "\t<tr><td>2008</td><td>.net-2.0            </td><td> 289</td><td>58390</td></tr>\n",
              "\t<tr><td>2008</td><td>.net-3.5            </td><td> 319</td><td>58390</td></tr>\n",
              "\t<tr><td>2008</td><td>.net-4.0            </td><td>   6</td><td>58390</td></tr>\n",
              "\t<tr><td>2008</td><td>.net-assembly       </td><td>   3</td><td>58390</td></tr>\n",
              "\t<tr><td>2008</td><td>.net-core           </td><td>   1</td><td>58390</td></tr>\n",
              "\t<tr><td>2008</td><td>2d                  </td><td>  42</td><td>58390</td></tr>\n",
              "\t<tr><td>2008</td><td>32-bit              </td><td>  19</td><td>58390</td></tr>\n",
              "\t<tr><td>2008</td><td>32bit-64bit         </td><td>   4</td><td>58390</td></tr>\n",
              "\t<tr><td>2008</td><td>3d                  </td><td>  73</td><td>58390</td></tr>\n",
              "\t<tr><td>2008</td><td>64bit               </td><td> 149</td><td>58390</td></tr>\n",
              "\t<tr><td>2008</td><td>abap                </td><td>  10</td><td>58390</td></tr>\n",
              "\t<tr><td>2008</td><td>absolute            </td><td>   1</td><td>58390</td></tr>\n",
              "\t<tr><td>2008</td><td>abstract            </td><td>   5</td><td>58390</td></tr>\n",
              "\t<tr><td>2008</td><td>abstract-class      </td><td>  27</td><td>58390</td></tr>\n",
              "\t<tr><td>2008</td><td>abstract-syntax-tree</td><td>   6</td><td>58390</td></tr>\n",
              "\t<tr><td>2008</td><td>accelerometer       </td><td>   3</td><td>58390</td></tr>\n",
              "\t<tr><td>2008</td><td>access              </td><td>   1</td><td>58390</td></tr>\n",
              "\t<tr><td>2008</td><td>access-control      </td><td>  12</td><td>58390</td></tr>\n",
              "\t<tr><td>2008</td><td>accessibility       </td><td>  26</td><td>58390</td></tr>\n",
              "\t<tr><td>2008</td><td>access-vba          </td><td>  50</td><td>58390</td></tr>\n",
              "\t<tr><td>2008</td><td>access-violation    </td><td>   4</td><td>58390</td></tr>\n",
              "\t<tr><td>2008</td><td>accordion           </td><td>   9</td><td>58390</td></tr>\n",
              "\t<tr><td>2008</td><td>acl                 </td><td>  11</td><td>58390</td></tr>\n",
              "\t<tr><td>2008</td><td>acrobat             </td><td>  10</td><td>58390</td></tr>\n",
              "\t<tr><td>2008</td><td>action              </td><td>  10</td><td>58390</td></tr>\n",
              "\t<tr><td>2008</td><td>actionlistener      </td><td>   4</td><td>58390</td></tr>\n",
              "\t<tr><td>2008</td><td>actionmailer        </td><td>   3</td><td>58390</td></tr>\n",
              "\t<tr><td>2008</td><td>actionscript        </td><td> 136</td><td>58390</td></tr>\n",
              "\t<tr><td>⋮</td><td>⋮</td><td>⋮</td><td>⋮</td></tr>\n",
              "\t<tr><td>2018</td><td>yaml             </td><td> 648</td><td>1085170</td></tr>\n",
              "\t<tr><td>2018</td><td>yarn             </td><td> 357</td><td>1085170</td></tr>\n",
              "\t<tr><td>2018</td><td>yeoman           </td><td>  36</td><td>1085170</td></tr>\n",
              "\t<tr><td>2018</td><td>yesod            </td><td>  41</td><td>1085170</td></tr>\n",
              "\t<tr><td>2018</td><td>yield            </td><td>  69</td><td>1085170</td></tr>\n",
              "\t<tr><td>2018</td><td>yii              </td><td> 269</td><td>1085170</td></tr>\n",
              "\t<tr><td>2018</td><td>yii2             </td><td>1181</td><td>1085170</td></tr>\n",
              "\t<tr><td>2018</td><td>yii2-advanced-app</td><td> 209</td><td>1085170</td></tr>\n",
              "\t<tr><td>2018</td><td>yocto            </td><td> 288</td><td>1085170</td></tr>\n",
              "\t<tr><td>2018</td><td>youtube          </td><td> 676</td><td>1085170</td></tr>\n",
              "\t<tr><td>2018</td><td>youtube-api      </td><td> 473</td><td>1085170</td></tr>\n",
              "\t<tr><td>2018</td><td>youtube-api-v3   </td><td> 223</td><td>1085170</td></tr>\n",
              "\t<tr><td>2018</td><td>youtube-data-api </td><td> 203</td><td>1085170</td></tr>\n",
              "\t<tr><td>2018</td><td>yui              </td><td>   5</td><td>1085170</td></tr>\n",
              "\t<tr><td>2018</td><td>yum              </td><td>  98</td><td>1085170</td></tr>\n",
              "\t<tr><td>2018</td><td>z3               </td><td> 124</td><td>1085170</td></tr>\n",
              "\t<tr><td>2018</td><td>zend-db          </td><td>  11</td><td>1085170</td></tr>\n",
              "\t<tr><td>2018</td><td>zend-form        </td><td>  13</td><td>1085170</td></tr>\n",
              "\t<tr><td>2018</td><td>zend-framework   </td><td> 188</td><td>1085170</td></tr>\n",
              "\t<tr><td>2018</td><td>zend-framework2  </td><td> 108</td><td>1085170</td></tr>\n",
              "\t<tr><td>2018</td><td>zeromq           </td><td> 168</td><td>1085170</td></tr>\n",
              "\t<tr><td>2018</td><td>z-index          </td><td> 107</td><td>1085170</td></tr>\n",
              "\t<tr><td>2018</td><td>zip              </td><td> 410</td><td>1085170</td></tr>\n",
              "\t<tr><td>2018</td><td>zipfile          </td><td> 115</td><td>1085170</td></tr>\n",
              "\t<tr><td>2018</td><td>zk               </td><td>  35</td><td>1085170</td></tr>\n",
              "\t<tr><td>2018</td><td>zlib             </td><td>  89</td><td>1085170</td></tr>\n",
              "\t<tr><td>2018</td><td>zoom             </td><td> 196</td><td>1085170</td></tr>\n",
              "\t<tr><td>2018</td><td>zsh              </td><td> 175</td><td>1085170</td></tr>\n",
              "\t<tr><td>2018</td><td>zurb-foundation  </td><td> 182</td><td>1085170</td></tr>\n",
              "\t<tr><td>2018</td><td>zxing            </td><td>  95</td><td>1085170</td></tr>\n",
              "</tbody>\n",
              "</table>\n"
            ],
            "text/markdown": "\nA spec_tbl_df: 40518 × 4\n\n| year &lt;dbl&gt; | tag &lt;chr&gt; | number &lt;dbl&gt; | year_total &lt;dbl&gt; |\n|---|---|---|---|\n| 2008 | .htaccess            |   54 | 58390 |\n| 2008 | .net                 | 5910 | 58390 |\n| 2008 | .net-2.0             |  289 | 58390 |\n| 2008 | .net-3.5             |  319 | 58390 |\n| 2008 | .net-4.0             |    6 | 58390 |\n| 2008 | .net-assembly        |    3 | 58390 |\n| 2008 | .net-core            |    1 | 58390 |\n| 2008 | 2d                   |   42 | 58390 |\n| 2008 | 32-bit               |   19 | 58390 |\n| 2008 | 32bit-64bit          |    4 | 58390 |\n| 2008 | 3d                   |   73 | 58390 |\n| 2008 | 64bit                |  149 | 58390 |\n| 2008 | abap                 |   10 | 58390 |\n| 2008 | absolute             |    1 | 58390 |\n| 2008 | abstract             |    5 | 58390 |\n| 2008 | abstract-class       |   27 | 58390 |\n| 2008 | abstract-syntax-tree |    6 | 58390 |\n| 2008 | accelerometer        |    3 | 58390 |\n| 2008 | access               |    1 | 58390 |\n| 2008 | access-control       |   12 | 58390 |\n| 2008 | accessibility        |   26 | 58390 |\n| 2008 | access-vba           |   50 | 58390 |\n| 2008 | access-violation     |    4 | 58390 |\n| 2008 | accordion            |    9 | 58390 |\n| 2008 | acl                  |   11 | 58390 |\n| 2008 | acrobat              |   10 | 58390 |\n| 2008 | action               |   10 | 58390 |\n| 2008 | actionlistener       |    4 | 58390 |\n| 2008 | actionmailer         |    3 | 58390 |\n| 2008 | actionscript         |  136 | 58390 |\n| ⋮ | ⋮ | ⋮ | ⋮ |\n| 2018 | yaml              |  648 | 1085170 |\n| 2018 | yarn              |  357 | 1085170 |\n| 2018 | yeoman            |   36 | 1085170 |\n| 2018 | yesod             |   41 | 1085170 |\n| 2018 | yield             |   69 | 1085170 |\n| 2018 | yii               |  269 | 1085170 |\n| 2018 | yii2              | 1181 | 1085170 |\n| 2018 | yii2-advanced-app |  209 | 1085170 |\n| 2018 | yocto             |  288 | 1085170 |\n| 2018 | youtube           |  676 | 1085170 |\n| 2018 | youtube-api       |  473 | 1085170 |\n| 2018 | youtube-api-v3    |  223 | 1085170 |\n| 2018 | youtube-data-api  |  203 | 1085170 |\n| 2018 | yui               |    5 | 1085170 |\n| 2018 | yum               |   98 | 1085170 |\n| 2018 | z3                |  124 | 1085170 |\n| 2018 | zend-db           |   11 | 1085170 |\n| 2018 | zend-form         |   13 | 1085170 |\n| 2018 | zend-framework    |  188 | 1085170 |\n| 2018 | zend-framework2   |  108 | 1085170 |\n| 2018 | zeromq            |  168 | 1085170 |\n| 2018 | z-index           |  107 | 1085170 |\n| 2018 | zip               |  410 | 1085170 |\n| 2018 | zipfile           |  115 | 1085170 |\n| 2018 | zk                |   35 | 1085170 |\n| 2018 | zlib              |   89 | 1085170 |\n| 2018 | zoom              |  196 | 1085170 |\n| 2018 | zsh               |  175 | 1085170 |\n| 2018 | zurb-foundation   |  182 | 1085170 |\n| 2018 | zxing             |   95 | 1085170 |\n\n",
            "text/latex": "A spec\\_tbl\\_df: 40518 × 4\n\\begin{tabular}{llll}\n year & tag & number & year\\_total\\\\\n <dbl> & <chr> & <dbl> & <dbl>\\\\\n\\hline\n\t 2008 & .htaccess            &   54 & 58390\\\\\n\t 2008 & .net                 & 5910 & 58390\\\\\n\t 2008 & .net-2.0             &  289 & 58390\\\\\n\t 2008 & .net-3.5             &  319 & 58390\\\\\n\t 2008 & .net-4.0             &    6 & 58390\\\\\n\t 2008 & .net-assembly        &    3 & 58390\\\\\n\t 2008 & .net-core            &    1 & 58390\\\\\n\t 2008 & 2d                   &   42 & 58390\\\\\n\t 2008 & 32-bit               &   19 & 58390\\\\\n\t 2008 & 32bit-64bit          &    4 & 58390\\\\\n\t 2008 & 3d                   &   73 & 58390\\\\\n\t 2008 & 64bit                &  149 & 58390\\\\\n\t 2008 & abap                 &   10 & 58390\\\\\n\t 2008 & absolute             &    1 & 58390\\\\\n\t 2008 & abstract             &    5 & 58390\\\\\n\t 2008 & abstract-class       &   27 & 58390\\\\\n\t 2008 & abstract-syntax-tree &    6 & 58390\\\\\n\t 2008 & accelerometer        &    3 & 58390\\\\\n\t 2008 & access               &    1 & 58390\\\\\n\t 2008 & access-control       &   12 & 58390\\\\\n\t 2008 & accessibility        &   26 & 58390\\\\\n\t 2008 & access-vba           &   50 & 58390\\\\\n\t 2008 & access-violation     &    4 & 58390\\\\\n\t 2008 & accordion            &    9 & 58390\\\\\n\t 2008 & acl                  &   11 & 58390\\\\\n\t 2008 & acrobat              &   10 & 58390\\\\\n\t 2008 & action               &   10 & 58390\\\\\n\t 2008 & actionlistener       &    4 & 58390\\\\\n\t 2008 & actionmailer         &    3 & 58390\\\\\n\t 2008 & actionscript         &  136 & 58390\\\\\n\t ⋮ & ⋮ & ⋮ & ⋮\\\\\n\t 2018 & yaml              &  648 & 1085170\\\\\n\t 2018 & yarn              &  357 & 1085170\\\\\n\t 2018 & yeoman            &   36 & 1085170\\\\\n\t 2018 & yesod             &   41 & 1085170\\\\\n\t 2018 & yield             &   69 & 1085170\\\\\n\t 2018 & yii               &  269 & 1085170\\\\\n\t 2018 & yii2              & 1181 & 1085170\\\\\n\t 2018 & yii2-advanced-app &  209 & 1085170\\\\\n\t 2018 & yocto             &  288 & 1085170\\\\\n\t 2018 & youtube           &  676 & 1085170\\\\\n\t 2018 & youtube-api       &  473 & 1085170\\\\\n\t 2018 & youtube-api-v3    &  223 & 1085170\\\\\n\t 2018 & youtube-data-api  &  203 & 1085170\\\\\n\t 2018 & yui               &    5 & 1085170\\\\\n\t 2018 & yum               &   98 & 1085170\\\\\n\t 2018 & z3                &  124 & 1085170\\\\\n\t 2018 & zend-db           &   11 & 1085170\\\\\n\t 2018 & zend-form         &   13 & 1085170\\\\\n\t 2018 & zend-framework    &  188 & 1085170\\\\\n\t 2018 & zend-framework2   &  108 & 1085170\\\\\n\t 2018 & zeromq            &  168 & 1085170\\\\\n\t 2018 & z-index           &  107 & 1085170\\\\\n\t 2018 & zip               &  410 & 1085170\\\\\n\t 2018 & zipfile           &  115 & 1085170\\\\\n\t 2018 & zk                &   35 & 1085170\\\\\n\t 2018 & zlib              &   89 & 1085170\\\\\n\t 2018 & zoom              &  196 & 1085170\\\\\n\t 2018 & zsh               &  175 & 1085170\\\\\n\t 2018 & zurb-foundation   &  182 & 1085170\\\\\n\t 2018 & zxing             &   95 & 1085170\\\\\n\\end{tabular}\n",
            "text/plain": [
              "      year tag                  number year_total\n",
              "1     2008 .htaccess              54   58390     \n",
              "2     2008 .net                 5910   58390     \n",
              "3     2008 .net-2.0              289   58390     \n",
              "4     2008 .net-3.5              319   58390     \n",
              "5     2008 .net-4.0                6   58390     \n",
              "6     2008 .net-assembly           3   58390     \n",
              "7     2008 .net-core               1   58390     \n",
              "8     2008 2d                     42   58390     \n",
              "9     2008 32-bit                 19   58390     \n",
              "10    2008 32bit-64bit             4   58390     \n",
              "11    2008 3d                     73   58390     \n",
              "12    2008 64bit                 149   58390     \n",
              "13    2008 abap                   10   58390     \n",
              "14    2008 absolute                1   58390     \n",
              "15    2008 abstract                5   58390     \n",
              "16    2008 abstract-class         27   58390     \n",
              "17    2008 abstract-syntax-tree    6   58390     \n",
              "18    2008 accelerometer           3   58390     \n",
              "19    2008 access                  1   58390     \n",
              "20    2008 access-control         12   58390     \n",
              "21    2008 accessibility          26   58390     \n",
              "22    2008 access-vba             50   58390     \n",
              "23    2008 access-violation        4   58390     \n",
              "24    2008 accordion               9   58390     \n",
              "25    2008 acl                    11   58390     \n",
              "26    2008 acrobat                10   58390     \n",
              "27    2008 action                 10   58390     \n",
              "28    2008 actionlistener          4   58390     \n",
              "29    2008 actionmailer            3   58390     \n",
              "30    2008 actionscript          136   58390     \n",
              "⋮     ⋮    ⋮                    ⋮      ⋮         \n",
              "40489 2018 yaml                  648   1085170   \n",
              "40490 2018 yarn                  357   1085170   \n",
              "40491 2018 yeoman                 36   1085170   \n",
              "40492 2018 yesod                  41   1085170   \n",
              "40493 2018 yield                  69   1085170   \n",
              "40494 2018 yii                   269   1085170   \n",
              "40495 2018 yii2                 1181   1085170   \n",
              "40496 2018 yii2-advanced-app     209   1085170   \n",
              "40497 2018 yocto                 288   1085170   \n",
              "40498 2018 youtube               676   1085170   \n",
              "40499 2018 youtube-api           473   1085170   \n",
              "40500 2018 youtube-api-v3        223   1085170   \n",
              "40501 2018 youtube-data-api      203   1085170   \n",
              "40502 2018 yui                     5   1085170   \n",
              "40503 2018 yum                    98   1085170   \n",
              "40504 2018 z3                    124   1085170   \n",
              "40505 2018 zend-db                11   1085170   \n",
              "40506 2018 zend-form              13   1085170   \n",
              "40507 2018 zend-framework        188   1085170   \n",
              "40508 2018 zend-framework2       108   1085170   \n",
              "40509 2018 zeromq                168   1085170   \n",
              "40510 2018 z-index               107   1085170   \n",
              "40511 2018 zip                   410   1085170   \n",
              "40512 2018 zipfile               115   1085170   \n",
              "40513 2018 zk                     35   1085170   \n",
              "40514 2018 zlib                   89   1085170   \n",
              "40515 2018 zoom                  196   1085170   \n",
              "40516 2018 zsh                   175   1085170   \n",
              "40517 2018 zurb-foundation       182   1085170   \n",
              "40518 2018 zxing                  95   1085170   "
            ]
          },
          "metadata": {}
        }
      ]
    },
    {
      "cell_type": "markdown",
      "source": [
        "Now in fraction format"
      ],
      "metadata": {
        "id": "YnQ7qeFT-8AL"
      }
    },
    {
      "cell_type": "markdown",
      "source": [
        "This data has one observation for each pair of a tag and a year, showing the number of questions asked in that tag in that year and the total number of questions asked in that year. For instance, there were 54 questions asked about the .htaccess tag in 2008, out of a total of 58390 questions in that year.\n",
        "\n",
        "Rather than just the counts, we're probably interested in a percentage: the fraction of questions that year that have that tag. So let's add that to the table."
      ],
      "metadata": {
        "id": "NrNPEJxv_GQA"
      }
    },
    {
      "cell_type": "code",
      "source": [
        "# Add fraction column\n",
        "by_tag_year_fraction <- by_tag_year %>%\n",
        "    mutate(fraction = number / year_total)\n",
        "\n",
        "# Print the new table\n",
        "by_tag_year_fraction"
      ],
      "metadata": {
        "colab": {
          "base_uri": "https://localhost:8080/",
          "height": 1000
        },
        "id": "J-PEHaFJ_HNr",
        "outputId": "1eca119e-5830-4d7b-c887-34289e63ab7a"
      },
      "execution_count": 28,
      "outputs": [
        {
          "output_type": "display_data",
          "data": {
            "text/html": [
              "<table class=\"dataframe\">\n",
              "<caption>A tibble: 40518 × 5</caption>\n",
              "<thead>\n",
              "\t<tr><th scope=col>year</th><th scope=col>tag</th><th scope=col>number</th><th scope=col>year_total</th><th scope=col>fraction</th></tr>\n",
              "\t<tr><th scope=col>&lt;dbl&gt;</th><th scope=col>&lt;chr&gt;</th><th scope=col>&lt;dbl&gt;</th><th scope=col>&lt;dbl&gt;</th><th scope=col>&lt;dbl&gt;</th></tr>\n",
              "</thead>\n",
              "<tbody>\n",
              "\t<tr><td>2008</td><td>.htaccess           </td><td>  54</td><td>58390</td><td>9.248159e-04</td></tr>\n",
              "\t<tr><td>2008</td><td>.net                </td><td>5910</td><td>58390</td><td>1.012160e-01</td></tr>\n",
              "\t<tr><td>2008</td><td>.net-2.0            </td><td> 289</td><td>58390</td><td>4.949478e-03</td></tr>\n",
              "\t<tr><td>2008</td><td>.net-3.5            </td><td> 319</td><td>58390</td><td>5.463264e-03</td></tr>\n",
              "\t<tr><td>2008</td><td>.net-4.0            </td><td>   6</td><td>58390</td><td>1.027573e-04</td></tr>\n",
              "\t<tr><td>2008</td><td>.net-assembly       </td><td>   3</td><td>58390</td><td>5.137866e-05</td></tr>\n",
              "\t<tr><td>2008</td><td>.net-core           </td><td>   1</td><td>58390</td><td>1.712622e-05</td></tr>\n",
              "\t<tr><td>2008</td><td>2d                  </td><td>  42</td><td>58390</td><td>7.193013e-04</td></tr>\n",
              "\t<tr><td>2008</td><td>32-bit              </td><td>  19</td><td>58390</td><td>3.253982e-04</td></tr>\n",
              "\t<tr><td>2008</td><td>32bit-64bit         </td><td>   4</td><td>58390</td><td>6.850488e-05</td></tr>\n",
              "\t<tr><td>2008</td><td>3d                  </td><td>  73</td><td>58390</td><td>1.250214e-03</td></tr>\n",
              "\t<tr><td>2008</td><td>64bit               </td><td> 149</td><td>58390</td><td>2.551807e-03</td></tr>\n",
              "\t<tr><td>2008</td><td>abap                </td><td>  10</td><td>58390</td><td>1.712622e-04</td></tr>\n",
              "\t<tr><td>2008</td><td>absolute            </td><td>   1</td><td>58390</td><td>1.712622e-05</td></tr>\n",
              "\t<tr><td>2008</td><td>abstract            </td><td>   5</td><td>58390</td><td>8.563110e-05</td></tr>\n",
              "\t<tr><td>2008</td><td>abstract-class      </td><td>  27</td><td>58390</td><td>4.624079e-04</td></tr>\n",
              "\t<tr><td>2008</td><td>abstract-syntax-tree</td><td>   6</td><td>58390</td><td>1.027573e-04</td></tr>\n",
              "\t<tr><td>2008</td><td>accelerometer       </td><td>   3</td><td>58390</td><td>5.137866e-05</td></tr>\n",
              "\t<tr><td>2008</td><td>access              </td><td>   1</td><td>58390</td><td>1.712622e-05</td></tr>\n",
              "\t<tr><td>2008</td><td>access-control      </td><td>  12</td><td>58390</td><td>2.055146e-04</td></tr>\n",
              "\t<tr><td>2008</td><td>accessibility       </td><td>  26</td><td>58390</td><td>4.452817e-04</td></tr>\n",
              "\t<tr><td>2008</td><td>access-vba          </td><td>  50</td><td>58390</td><td>8.563110e-04</td></tr>\n",
              "\t<tr><td>2008</td><td>access-violation    </td><td>   4</td><td>58390</td><td>6.850488e-05</td></tr>\n",
              "\t<tr><td>2008</td><td>accordion           </td><td>   9</td><td>58390</td><td>1.541360e-04</td></tr>\n",
              "\t<tr><td>2008</td><td>acl                 </td><td>  11</td><td>58390</td><td>1.883884e-04</td></tr>\n",
              "\t<tr><td>2008</td><td>acrobat             </td><td>  10</td><td>58390</td><td>1.712622e-04</td></tr>\n",
              "\t<tr><td>2008</td><td>action              </td><td>  10</td><td>58390</td><td>1.712622e-04</td></tr>\n",
              "\t<tr><td>2008</td><td>actionlistener      </td><td>   4</td><td>58390</td><td>6.850488e-05</td></tr>\n",
              "\t<tr><td>2008</td><td>actionmailer        </td><td>   3</td><td>58390</td><td>5.137866e-05</td></tr>\n",
              "\t<tr><td>2008</td><td>actionscript        </td><td> 136</td><td>58390</td><td>2.329166e-03</td></tr>\n",
              "\t<tr><td>⋮</td><td>⋮</td><td>⋮</td><td>⋮</td><td>⋮</td></tr>\n",
              "\t<tr><td>2018</td><td>yaml             </td><td> 648</td><td>1085170</td><td>5.971415e-04</td></tr>\n",
              "\t<tr><td>2018</td><td>yarn             </td><td> 357</td><td>1085170</td><td>3.289807e-04</td></tr>\n",
              "\t<tr><td>2018</td><td>yeoman           </td><td>  36</td><td>1085170</td><td>3.317453e-05</td></tr>\n",
              "\t<tr><td>2018</td><td>yesod            </td><td>  41</td><td>1085170</td><td>3.778210e-05</td></tr>\n",
              "\t<tr><td>2018</td><td>yield            </td><td>  69</td><td>1085170</td><td>6.358451e-05</td></tr>\n",
              "\t<tr><td>2018</td><td>yii              </td><td> 269</td><td>1085170</td><td>2.478874e-04</td></tr>\n",
              "\t<tr><td>2018</td><td>yii2             </td><td>1181</td><td>1085170</td><td>1.088309e-03</td></tr>\n",
              "\t<tr><td>2018</td><td>yii2-advanced-app</td><td> 209</td><td>1085170</td><td>1.925966e-04</td></tr>\n",
              "\t<tr><td>2018</td><td>yocto            </td><td> 288</td><td>1085170</td><td>2.653962e-04</td></tr>\n",
              "\t<tr><td>2018</td><td>youtube          </td><td> 676</td><td>1085170</td><td>6.229439e-04</td></tr>\n",
              "\t<tr><td>2018</td><td>youtube-api      </td><td> 473</td><td>1085170</td><td>4.358764e-04</td></tr>\n",
              "\t<tr><td>2018</td><td>youtube-api-v3   </td><td> 223</td><td>1085170</td><td>2.054978e-04</td></tr>\n",
              "\t<tr><td>2018</td><td>youtube-data-api </td><td> 203</td><td>1085170</td><td>1.870675e-04</td></tr>\n",
              "\t<tr><td>2018</td><td>yui              </td><td>   5</td><td>1085170</td><td>4.607573e-06</td></tr>\n",
              "\t<tr><td>2018</td><td>yum              </td><td>  98</td><td>1085170</td><td>9.030843e-05</td></tr>\n",
              "\t<tr><td>2018</td><td>z3               </td><td> 124</td><td>1085170</td><td>1.142678e-04</td></tr>\n",
              "\t<tr><td>2018</td><td>zend-db          </td><td>  11</td><td>1085170</td><td>1.013666e-05</td></tr>\n",
              "\t<tr><td>2018</td><td>zend-form        </td><td>  13</td><td>1085170</td><td>1.197969e-05</td></tr>\n",
              "\t<tr><td>2018</td><td>zend-framework   </td><td> 188</td><td>1085170</td><td>1.732447e-04</td></tr>\n",
              "\t<tr><td>2018</td><td>zend-framework2  </td><td> 108</td><td>1085170</td><td>9.952358e-05</td></tr>\n",
              "\t<tr><td>2018</td><td>zeromq           </td><td> 168</td><td>1085170</td><td>1.548145e-04</td></tr>\n",
              "\t<tr><td>2018</td><td>z-index          </td><td> 107</td><td>1085170</td><td>9.860206e-05</td></tr>\n",
              "\t<tr><td>2018</td><td>zip              </td><td> 410</td><td>1085170</td><td>3.778210e-04</td></tr>\n",
              "\t<tr><td>2018</td><td>zipfile          </td><td> 115</td><td>1085170</td><td>1.059742e-04</td></tr>\n",
              "\t<tr><td>2018</td><td>zk               </td><td>  35</td><td>1085170</td><td>3.225301e-05</td></tr>\n",
              "\t<tr><td>2018</td><td>zlib             </td><td>  89</td><td>1085170</td><td>8.201480e-05</td></tr>\n",
              "\t<tr><td>2018</td><td>zoom             </td><td> 196</td><td>1085170</td><td>1.806169e-04</td></tr>\n",
              "\t<tr><td>2018</td><td>zsh              </td><td> 175</td><td>1085170</td><td>1.612651e-04</td></tr>\n",
              "\t<tr><td>2018</td><td>zurb-foundation  </td><td> 182</td><td>1085170</td><td>1.677157e-04</td></tr>\n",
              "\t<tr><td>2018</td><td>zxing            </td><td>  95</td><td>1085170</td><td>8.754389e-05</td></tr>\n",
              "</tbody>\n",
              "</table>\n"
            ],
            "text/markdown": "\nA tibble: 40518 × 5\n\n| year &lt;dbl&gt; | tag &lt;chr&gt; | number &lt;dbl&gt; | year_total &lt;dbl&gt; | fraction &lt;dbl&gt; |\n|---|---|---|---|---|\n| 2008 | .htaccess            |   54 | 58390 | 9.248159e-04 |\n| 2008 | .net                 | 5910 | 58390 | 1.012160e-01 |\n| 2008 | .net-2.0             |  289 | 58390 | 4.949478e-03 |\n| 2008 | .net-3.5             |  319 | 58390 | 5.463264e-03 |\n| 2008 | .net-4.0             |    6 | 58390 | 1.027573e-04 |\n| 2008 | .net-assembly        |    3 | 58390 | 5.137866e-05 |\n| 2008 | .net-core            |    1 | 58390 | 1.712622e-05 |\n| 2008 | 2d                   |   42 | 58390 | 7.193013e-04 |\n| 2008 | 32-bit               |   19 | 58390 | 3.253982e-04 |\n| 2008 | 32bit-64bit          |    4 | 58390 | 6.850488e-05 |\n| 2008 | 3d                   |   73 | 58390 | 1.250214e-03 |\n| 2008 | 64bit                |  149 | 58390 | 2.551807e-03 |\n| 2008 | abap                 |   10 | 58390 | 1.712622e-04 |\n| 2008 | absolute             |    1 | 58390 | 1.712622e-05 |\n| 2008 | abstract             |    5 | 58390 | 8.563110e-05 |\n| 2008 | abstract-class       |   27 | 58390 | 4.624079e-04 |\n| 2008 | abstract-syntax-tree |    6 | 58390 | 1.027573e-04 |\n| 2008 | accelerometer        |    3 | 58390 | 5.137866e-05 |\n| 2008 | access               |    1 | 58390 | 1.712622e-05 |\n| 2008 | access-control       |   12 | 58390 | 2.055146e-04 |\n| 2008 | accessibility        |   26 | 58390 | 4.452817e-04 |\n| 2008 | access-vba           |   50 | 58390 | 8.563110e-04 |\n| 2008 | access-violation     |    4 | 58390 | 6.850488e-05 |\n| 2008 | accordion            |    9 | 58390 | 1.541360e-04 |\n| 2008 | acl                  |   11 | 58390 | 1.883884e-04 |\n| 2008 | acrobat              |   10 | 58390 | 1.712622e-04 |\n| 2008 | action               |   10 | 58390 | 1.712622e-04 |\n| 2008 | actionlistener       |    4 | 58390 | 6.850488e-05 |\n| 2008 | actionmailer         |    3 | 58390 | 5.137866e-05 |\n| 2008 | actionscript         |  136 | 58390 | 2.329166e-03 |\n| ⋮ | ⋮ | ⋮ | ⋮ | ⋮ |\n| 2018 | yaml              |  648 | 1085170 | 5.971415e-04 |\n| 2018 | yarn              |  357 | 1085170 | 3.289807e-04 |\n| 2018 | yeoman            |   36 | 1085170 | 3.317453e-05 |\n| 2018 | yesod             |   41 | 1085170 | 3.778210e-05 |\n| 2018 | yield             |   69 | 1085170 | 6.358451e-05 |\n| 2018 | yii               |  269 | 1085170 | 2.478874e-04 |\n| 2018 | yii2              | 1181 | 1085170 | 1.088309e-03 |\n| 2018 | yii2-advanced-app |  209 | 1085170 | 1.925966e-04 |\n| 2018 | yocto             |  288 | 1085170 | 2.653962e-04 |\n| 2018 | youtube           |  676 | 1085170 | 6.229439e-04 |\n| 2018 | youtube-api       |  473 | 1085170 | 4.358764e-04 |\n| 2018 | youtube-api-v3    |  223 | 1085170 | 2.054978e-04 |\n| 2018 | youtube-data-api  |  203 | 1085170 | 1.870675e-04 |\n| 2018 | yui               |    5 | 1085170 | 4.607573e-06 |\n| 2018 | yum               |   98 | 1085170 | 9.030843e-05 |\n| 2018 | z3                |  124 | 1085170 | 1.142678e-04 |\n| 2018 | zend-db           |   11 | 1085170 | 1.013666e-05 |\n| 2018 | zend-form         |   13 | 1085170 | 1.197969e-05 |\n| 2018 | zend-framework    |  188 | 1085170 | 1.732447e-04 |\n| 2018 | zend-framework2   |  108 | 1085170 | 9.952358e-05 |\n| 2018 | zeromq            |  168 | 1085170 | 1.548145e-04 |\n| 2018 | z-index           |  107 | 1085170 | 9.860206e-05 |\n| 2018 | zip               |  410 | 1085170 | 3.778210e-04 |\n| 2018 | zipfile           |  115 | 1085170 | 1.059742e-04 |\n| 2018 | zk                |   35 | 1085170 | 3.225301e-05 |\n| 2018 | zlib              |   89 | 1085170 | 8.201480e-05 |\n| 2018 | zoom              |  196 | 1085170 | 1.806169e-04 |\n| 2018 | zsh               |  175 | 1085170 | 1.612651e-04 |\n| 2018 | zurb-foundation   |  182 | 1085170 | 1.677157e-04 |\n| 2018 | zxing             |   95 | 1085170 | 8.754389e-05 |\n\n",
            "text/latex": "A tibble: 40518 × 5\n\\begin{tabular}{lllll}\n year & tag & number & year\\_total & fraction\\\\\n <dbl> & <chr> & <dbl> & <dbl> & <dbl>\\\\\n\\hline\n\t 2008 & .htaccess            &   54 & 58390 & 9.248159e-04\\\\\n\t 2008 & .net                 & 5910 & 58390 & 1.012160e-01\\\\\n\t 2008 & .net-2.0             &  289 & 58390 & 4.949478e-03\\\\\n\t 2008 & .net-3.5             &  319 & 58390 & 5.463264e-03\\\\\n\t 2008 & .net-4.0             &    6 & 58390 & 1.027573e-04\\\\\n\t 2008 & .net-assembly        &    3 & 58390 & 5.137866e-05\\\\\n\t 2008 & .net-core            &    1 & 58390 & 1.712622e-05\\\\\n\t 2008 & 2d                   &   42 & 58390 & 7.193013e-04\\\\\n\t 2008 & 32-bit               &   19 & 58390 & 3.253982e-04\\\\\n\t 2008 & 32bit-64bit          &    4 & 58390 & 6.850488e-05\\\\\n\t 2008 & 3d                   &   73 & 58390 & 1.250214e-03\\\\\n\t 2008 & 64bit                &  149 & 58390 & 2.551807e-03\\\\\n\t 2008 & abap                 &   10 & 58390 & 1.712622e-04\\\\\n\t 2008 & absolute             &    1 & 58390 & 1.712622e-05\\\\\n\t 2008 & abstract             &    5 & 58390 & 8.563110e-05\\\\\n\t 2008 & abstract-class       &   27 & 58390 & 4.624079e-04\\\\\n\t 2008 & abstract-syntax-tree &    6 & 58390 & 1.027573e-04\\\\\n\t 2008 & accelerometer        &    3 & 58390 & 5.137866e-05\\\\\n\t 2008 & access               &    1 & 58390 & 1.712622e-05\\\\\n\t 2008 & access-control       &   12 & 58390 & 2.055146e-04\\\\\n\t 2008 & accessibility        &   26 & 58390 & 4.452817e-04\\\\\n\t 2008 & access-vba           &   50 & 58390 & 8.563110e-04\\\\\n\t 2008 & access-violation     &    4 & 58390 & 6.850488e-05\\\\\n\t 2008 & accordion            &    9 & 58390 & 1.541360e-04\\\\\n\t 2008 & acl                  &   11 & 58390 & 1.883884e-04\\\\\n\t 2008 & acrobat              &   10 & 58390 & 1.712622e-04\\\\\n\t 2008 & action               &   10 & 58390 & 1.712622e-04\\\\\n\t 2008 & actionlistener       &    4 & 58390 & 6.850488e-05\\\\\n\t 2008 & actionmailer         &    3 & 58390 & 5.137866e-05\\\\\n\t 2008 & actionscript         &  136 & 58390 & 2.329166e-03\\\\\n\t ⋮ & ⋮ & ⋮ & ⋮ & ⋮\\\\\n\t 2018 & yaml              &  648 & 1085170 & 5.971415e-04\\\\\n\t 2018 & yarn              &  357 & 1085170 & 3.289807e-04\\\\\n\t 2018 & yeoman            &   36 & 1085170 & 3.317453e-05\\\\\n\t 2018 & yesod             &   41 & 1085170 & 3.778210e-05\\\\\n\t 2018 & yield             &   69 & 1085170 & 6.358451e-05\\\\\n\t 2018 & yii               &  269 & 1085170 & 2.478874e-04\\\\\n\t 2018 & yii2              & 1181 & 1085170 & 1.088309e-03\\\\\n\t 2018 & yii2-advanced-app &  209 & 1085170 & 1.925966e-04\\\\\n\t 2018 & yocto             &  288 & 1085170 & 2.653962e-04\\\\\n\t 2018 & youtube           &  676 & 1085170 & 6.229439e-04\\\\\n\t 2018 & youtube-api       &  473 & 1085170 & 4.358764e-04\\\\\n\t 2018 & youtube-api-v3    &  223 & 1085170 & 2.054978e-04\\\\\n\t 2018 & youtube-data-api  &  203 & 1085170 & 1.870675e-04\\\\\n\t 2018 & yui               &    5 & 1085170 & 4.607573e-06\\\\\n\t 2018 & yum               &   98 & 1085170 & 9.030843e-05\\\\\n\t 2018 & z3                &  124 & 1085170 & 1.142678e-04\\\\\n\t 2018 & zend-db           &   11 & 1085170 & 1.013666e-05\\\\\n\t 2018 & zend-form         &   13 & 1085170 & 1.197969e-05\\\\\n\t 2018 & zend-framework    &  188 & 1085170 & 1.732447e-04\\\\\n\t 2018 & zend-framework2   &  108 & 1085170 & 9.952358e-05\\\\\n\t 2018 & zeromq            &  168 & 1085170 & 1.548145e-04\\\\\n\t 2018 & z-index           &  107 & 1085170 & 9.860206e-05\\\\\n\t 2018 & zip               &  410 & 1085170 & 3.778210e-04\\\\\n\t 2018 & zipfile           &  115 & 1085170 & 1.059742e-04\\\\\n\t 2018 & zk                &   35 & 1085170 & 3.225301e-05\\\\\n\t 2018 & zlib              &   89 & 1085170 & 8.201480e-05\\\\\n\t 2018 & zoom              &  196 & 1085170 & 1.806169e-04\\\\\n\t 2018 & zsh               &  175 & 1085170 & 1.612651e-04\\\\\n\t 2018 & zurb-foundation   &  182 & 1085170 & 1.677157e-04\\\\\n\t 2018 & zxing             &   95 & 1085170 & 8.754389e-05\\\\\n\\end{tabular}\n",
            "text/plain": [
              "      year tag                  number year_total fraction    \n",
              "1     2008 .htaccess              54   58390      9.248159e-04\n",
              "2     2008 .net                 5910   58390      1.012160e-01\n",
              "3     2008 .net-2.0              289   58390      4.949478e-03\n",
              "4     2008 .net-3.5              319   58390      5.463264e-03\n",
              "5     2008 .net-4.0                6   58390      1.027573e-04\n",
              "6     2008 .net-assembly           3   58390      5.137866e-05\n",
              "7     2008 .net-core               1   58390      1.712622e-05\n",
              "8     2008 2d                     42   58390      7.193013e-04\n",
              "9     2008 32-bit                 19   58390      3.253982e-04\n",
              "10    2008 32bit-64bit             4   58390      6.850488e-05\n",
              "11    2008 3d                     73   58390      1.250214e-03\n",
              "12    2008 64bit                 149   58390      2.551807e-03\n",
              "13    2008 abap                   10   58390      1.712622e-04\n",
              "14    2008 absolute                1   58390      1.712622e-05\n",
              "15    2008 abstract                5   58390      8.563110e-05\n",
              "16    2008 abstract-class         27   58390      4.624079e-04\n",
              "17    2008 abstract-syntax-tree    6   58390      1.027573e-04\n",
              "18    2008 accelerometer           3   58390      5.137866e-05\n",
              "19    2008 access                  1   58390      1.712622e-05\n",
              "20    2008 access-control         12   58390      2.055146e-04\n",
              "21    2008 accessibility          26   58390      4.452817e-04\n",
              "22    2008 access-vba             50   58390      8.563110e-04\n",
              "23    2008 access-violation        4   58390      6.850488e-05\n",
              "24    2008 accordion               9   58390      1.541360e-04\n",
              "25    2008 acl                    11   58390      1.883884e-04\n",
              "26    2008 acrobat                10   58390      1.712622e-04\n",
              "27    2008 action                 10   58390      1.712622e-04\n",
              "28    2008 actionlistener          4   58390      6.850488e-05\n",
              "29    2008 actionmailer            3   58390      5.137866e-05\n",
              "30    2008 actionscript          136   58390      2.329166e-03\n",
              "⋮     ⋮    ⋮                    ⋮      ⋮          ⋮           \n",
              "40489 2018 yaml                  648   1085170    5.971415e-04\n",
              "40490 2018 yarn                  357   1085170    3.289807e-04\n",
              "40491 2018 yeoman                 36   1085170    3.317453e-05\n",
              "40492 2018 yesod                  41   1085170    3.778210e-05\n",
              "40493 2018 yield                  69   1085170    6.358451e-05\n",
              "40494 2018 yii                   269   1085170    2.478874e-04\n",
              "40495 2018 yii2                 1181   1085170    1.088309e-03\n",
              "40496 2018 yii2-advanced-app     209   1085170    1.925966e-04\n",
              "40497 2018 yocto                 288   1085170    2.653962e-04\n",
              "40498 2018 youtube               676   1085170    6.229439e-04\n",
              "40499 2018 youtube-api           473   1085170    4.358764e-04\n",
              "40500 2018 youtube-api-v3        223   1085170    2.054978e-04\n",
              "40501 2018 youtube-data-api      203   1085170    1.870675e-04\n",
              "40502 2018 yui                     5   1085170    4.607573e-06\n",
              "40503 2018 yum                    98   1085170    9.030843e-05\n",
              "40504 2018 z3                    124   1085170    1.142678e-04\n",
              "40505 2018 zend-db                11   1085170    1.013666e-05\n",
              "40506 2018 zend-form              13   1085170    1.197969e-05\n",
              "40507 2018 zend-framework        188   1085170    1.732447e-04\n",
              "40508 2018 zend-framework2       108   1085170    9.952358e-05\n",
              "40509 2018 zeromq                168   1085170    1.548145e-04\n",
              "40510 2018 z-index               107   1085170    9.860206e-05\n",
              "40511 2018 zip                   410   1085170    3.778210e-04\n",
              "40512 2018 zipfile               115   1085170    1.059742e-04\n",
              "40513 2018 zk                     35   1085170    3.225301e-05\n",
              "40514 2018 zlib                   89   1085170    8.201480e-05\n",
              "40515 2018 zoom                  196   1085170    1.806169e-04\n",
              "40516 2018 zsh                   175   1085170    1.612651e-04\n",
              "40517 2018 zurb-foundation       182   1085170    1.677157e-04\n",
              "40518 2018 zxing                  95   1085170    8.754389e-05"
            ]
          },
          "metadata": {}
        }
      ]
    },
    {
      "cell_type": "markdown",
      "source": [
        " Has R been growing or shrinking?"
      ],
      "metadata": {
        "id": "ZLGeYyFF_6Aa"
      }
    },
    {
      "cell_type": "markdown",
      "source": [
        "So far we've been learning and using the R programming language. Wouldn't we like to be sure it's a good investment for the future? Has it been keeping pace with other languages, or have people been switching out of it?\n",
        "\n",
        "Let's look at whether the fraction of Stack Overflow questions that are about R has been increasing or decreasing over time."
      ],
      "metadata": {
        "id": "CM8BXuzD__LW"
      }
    },
    {
      "cell_type": "code",
      "source": [
        "# Filter for R tags\n",
        "r_over_time <- by_tag_year_fraction %>%\n",
        "    filter(tag == 'r')\n",
        "\n",
        "# Print the new table\n",
        "r_over_time"
      ],
      "metadata": {
        "colab": {
          "base_uri": "https://localhost:8080/",
          "height": 443
        },
        "id": "XLQW4J6bAAFP",
        "outputId": "7fdf1162-0256-4d48-be00-ea96a4374cf0"
      },
      "execution_count": 29,
      "outputs": [
        {
          "output_type": "display_data",
          "data": {
            "text/html": [
              "<table class=\"dataframe\">\n",
              "<caption>A tibble: 11 × 5</caption>\n",
              "<thead>\n",
              "\t<tr><th scope=col>year</th><th scope=col>tag</th><th scope=col>number</th><th scope=col>year_total</th><th scope=col>fraction</th></tr>\n",
              "\t<tr><th scope=col>&lt;dbl&gt;</th><th scope=col>&lt;chr&gt;</th><th scope=col>&lt;dbl&gt;</th><th scope=col>&lt;dbl&gt;</th><th scope=col>&lt;dbl&gt;</th></tr>\n",
              "</thead>\n",
              "<tbody>\n",
              "\t<tr><td>2008</td><td>r</td><td>    8</td><td>  58390</td><td>0.0001370098</td></tr>\n",
              "\t<tr><td>2009</td><td>r</td><td>  524</td><td> 343868</td><td>0.0015238405</td></tr>\n",
              "\t<tr><td>2010</td><td>r</td><td> 2270</td><td> 694391</td><td>0.0032690516</td></tr>\n",
              "\t<tr><td>2011</td><td>r</td><td> 5845</td><td>1200551</td><td>0.0048685978</td></tr>\n",
              "\t<tr><td>2012</td><td>r</td><td>12221</td><td>1645404</td><td>0.0074273552</td></tr>\n",
              "\t<tr><td>2013</td><td>r</td><td>22329</td><td>2060473</td><td>0.0108368321</td></tr>\n",
              "\t<tr><td>2014</td><td>r</td><td>31011</td><td>2164701</td><td>0.0143257660</td></tr>\n",
              "\t<tr><td>2015</td><td>r</td><td>40844</td><td>2219527</td><td>0.0184021190</td></tr>\n",
              "\t<tr><td>2016</td><td>r</td><td>44611</td><td>2226072</td><td>0.0200402323</td></tr>\n",
              "\t<tr><td>2017</td><td>r</td><td>54415</td><td>2305207</td><td>0.0236052554</td></tr>\n",
              "\t<tr><td>2018</td><td>r</td><td>28938</td><td>1085170</td><td>0.0266667895</td></tr>\n",
              "</tbody>\n",
              "</table>\n"
            ],
            "text/markdown": "\nA tibble: 11 × 5\n\n| year &lt;dbl&gt; | tag &lt;chr&gt; | number &lt;dbl&gt; | year_total &lt;dbl&gt; | fraction &lt;dbl&gt; |\n|---|---|---|---|---|\n| 2008 | r |     8 |   58390 | 0.0001370098 |\n| 2009 | r |   524 |  343868 | 0.0015238405 |\n| 2010 | r |  2270 |  694391 | 0.0032690516 |\n| 2011 | r |  5845 | 1200551 | 0.0048685978 |\n| 2012 | r | 12221 | 1645404 | 0.0074273552 |\n| 2013 | r | 22329 | 2060473 | 0.0108368321 |\n| 2014 | r | 31011 | 2164701 | 0.0143257660 |\n| 2015 | r | 40844 | 2219527 | 0.0184021190 |\n| 2016 | r | 44611 | 2226072 | 0.0200402323 |\n| 2017 | r | 54415 | 2305207 | 0.0236052554 |\n| 2018 | r | 28938 | 1085170 | 0.0266667895 |\n\n",
            "text/latex": "A tibble: 11 × 5\n\\begin{tabular}{lllll}\n year & tag & number & year\\_total & fraction\\\\\n <dbl> & <chr> & <dbl> & <dbl> & <dbl>\\\\\n\\hline\n\t 2008 & r &     8 &   58390 & 0.0001370098\\\\\n\t 2009 & r &   524 &  343868 & 0.0015238405\\\\\n\t 2010 & r &  2270 &  694391 & 0.0032690516\\\\\n\t 2011 & r &  5845 & 1200551 & 0.0048685978\\\\\n\t 2012 & r & 12221 & 1645404 & 0.0074273552\\\\\n\t 2013 & r & 22329 & 2060473 & 0.0108368321\\\\\n\t 2014 & r & 31011 & 2164701 & 0.0143257660\\\\\n\t 2015 & r & 40844 & 2219527 & 0.0184021190\\\\\n\t 2016 & r & 44611 & 2226072 & 0.0200402323\\\\\n\t 2017 & r & 54415 & 2305207 & 0.0236052554\\\\\n\t 2018 & r & 28938 & 1085170 & 0.0266667895\\\\\n\\end{tabular}\n",
            "text/plain": [
              "   year tag number year_total fraction    \n",
              "1  2008 r       8    58390    0.0001370098\n",
              "2  2009 r     524   343868    0.0015238405\n",
              "3  2010 r    2270   694391    0.0032690516\n",
              "4  2011 r    5845  1200551    0.0048685978\n",
              "5  2012 r   12221  1645404    0.0074273552\n",
              "6  2013 r   22329  2060473    0.0108368321\n",
              "7  2014 r   31011  2164701    0.0143257660\n",
              "8  2015 r   40844  2219527    0.0184021190\n",
              "9  2016 r   44611  2226072    0.0200402323\n",
              "10 2017 r   54415  2305207    0.0236052554\n",
              "11 2018 r   28938  1085170    0.0266667895"
            ]
          },
          "metadata": {}
        }
      ]
    },
    {
      "cell_type": "markdown",
      "source": [
        " Visualizing change over time"
      ],
      "metadata": {
        "id": "ves0l1ZjAMZl"
      }
    },
    {
      "cell_type": "markdown",
      "source": [
        "Rather than looking at the results in a table, we often want to create a visualization. Change over time is usually visualized with a line plot."
      ],
      "metadata": {
        "id": "mvfRlK__AQ-D"
      }
    },
    {
      "cell_type": "code",
      "source": [
        "\n",
        "# Load ggplot2\n",
        "library(ggplot2)\n",
        "\n",
        "# Create a line plot of fraction over time\n",
        "ggplot(r_over_time, aes(x=year, y=fraction)) +\n",
        "    geom_line()"
      ],
      "metadata": {
        "colab": {
          "base_uri": "https://localhost:8080/",
          "height": 257
        },
        "id": "hZOwIxWeAUOZ",
        "outputId": "ba7de520-7a84-4bfb-ea65-7cd44f650bbb"
      },
      "execution_count": 30,
      "outputs": [
        {
          "output_type": "display_data",
          "data": {
            "text/plain": [
              "plot without title"
            ],
            "image/png": "[encoded data removed]"
          },
          "metadata": {
            "image/png": {
              "width": 240,
              "height": 240
            }
          }
        }
      ]
    },
    {
      "cell_type": "markdown",
      "source": [
        "How about dplyr and ggplot2?"
      ],
      "metadata": {
        "id": "neZQJW2FAe7F"
      }
    },
    {
      "cell_type": "markdown",
      "source": [
        "Instead of just looking at R, let's look at all three tags and their change over time. Are each of those tags increasing as a fraction of overall questions? Are any of them decreasing?"
      ],
      "metadata": {
        "id": "LbTyV_pnApho"
      }
    },
    {
      "cell_type": "code",
      "source": [
        "# A vector of selected tags\n",
        "selected_tags <- c('r', 'dplyr', 'ggplot2')\n",
        "\n",
        "# Filter for those tags\n",
        "selected_tags_over_time <- by_tag_year_fraction %>%\n",
        "    filter(tag %in% selected_tags)\n",
        "\n",
        "# Plot tags over time on a line plot using color to represent tag\n",
        "ggplot(selected_tags_over_time, aes(x=year, y=fraction, color=tag)) +\n",
        "    geom_line()"
      ],
      "metadata": {
        "colab": {
          "base_uri": "https://localhost:8080/",
          "height": 257
        },
        "id": "2TGXnfR4As3d",
        "outputId": "6c204e49-30bc-4646-9cf8-704aea5113c5"
      },
      "execution_count": 31,
      "outputs": [
        {
          "output_type": "display_data",
          "data": {
            "text/plain": [
              "plot without title"
            ],
            "image/png": "[encoded data removed]"
          },
          "metadata": {
            "image/png": {
              "width": 240,
              "height": 240
            }
          }
        }
      ]
    },
    {
      "cell_type": "markdown",
      "source": [
        "What are the most asked-about tags?"
      ],
      "metadata": {
        "id": "JxkOTe6JA4eC"
      }
    },
    {
      "cell_type": "markdown",
      "source": [
        "Let's look at tags that have the most questions in history."
      ],
      "metadata": {
        "id": "pCQboEDiA_0Z"
      }
    },
    {
      "cell_type": "code",
      "source": [
        "# Find total number of questions for each tag\n",
        "sorted_tags <- by_tag_year %>%\n",
        "    group_by(tag) %>%\n",
        "    summarize(tag_total = sum(year_total)) %>%\n",
        "    arrange(desc(tag_total))\n",
        "\n",
        "# Print the new table\n",
        "sorted_tags"
      ],
      "metadata": {
        "colab": {
          "base_uri": "https://localhost:8080/",
          "height": 1000
        },
        "id": "01S51er7BAtp",
        "outputId": "764f9d5b-2d49-4d77-a87c-389ee0791012"
      },
      "execution_count": 32,
      "outputs": [
        {
          "output_type": "display_data",
          "data": {
            "text/html": [
              "<table class=\"dataframe\">\n",
              "<caption>A tibble: 4080 × 2</caption>\n",
              "<thead>\n",
              "\t<tr><th scope=col>tag</th><th scope=col>tag_total</th></tr>\n",
              "\t<tr><th scope=col>&lt;chr&gt;</th><th scope=col>&lt;dbl&gt;</th></tr>\n",
              "</thead>\n",
              "<tbody>\n",
              "\t<tr><td>.htaccess           </td><td>16003754</td></tr>\n",
              "\t<tr><td>.net                </td><td>16003754</td></tr>\n",
              "\t<tr><td>.net-2.0            </td><td>16003754</td></tr>\n",
              "\t<tr><td>.net-3.5            </td><td>16003754</td></tr>\n",
              "\t<tr><td>.net-4.0            </td><td>16003754</td></tr>\n",
              "\t<tr><td>.net-assembly       </td><td>16003754</td></tr>\n",
              "\t<tr><td>2d                  </td><td>16003754</td></tr>\n",
              "\t<tr><td>32-bit              </td><td>16003754</td></tr>\n",
              "\t<tr><td>32bit-64bit         </td><td>16003754</td></tr>\n",
              "\t<tr><td>3d                  </td><td>16003754</td></tr>\n",
              "\t<tr><td>64bit               </td><td>16003754</td></tr>\n",
              "\t<tr><td>abap                </td><td>16003754</td></tr>\n",
              "\t<tr><td>absolute            </td><td>16003754</td></tr>\n",
              "\t<tr><td>abstract            </td><td>16003754</td></tr>\n",
              "\t<tr><td>abstract-class      </td><td>16003754</td></tr>\n",
              "\t<tr><td>abstract-syntax-tree</td><td>16003754</td></tr>\n",
              "\t<tr><td>accelerometer       </td><td>16003754</td></tr>\n",
              "\t<tr><td>access-control      </td><td>16003754</td></tr>\n",
              "\t<tr><td>access-vba          </td><td>16003754</td></tr>\n",
              "\t<tr><td>access-violation    </td><td>16003754</td></tr>\n",
              "\t<tr><td>accessibility       </td><td>16003754</td></tr>\n",
              "\t<tr><td>accordion           </td><td>16003754</td></tr>\n",
              "\t<tr><td>acl                 </td><td>16003754</td></tr>\n",
              "\t<tr><td>acrobat             </td><td>16003754</td></tr>\n",
              "\t<tr><td>action              </td><td>16003754</td></tr>\n",
              "\t<tr><td>actionlistener      </td><td>16003754</td></tr>\n",
              "\t<tr><td>actionmailer        </td><td>16003754</td></tr>\n",
              "\t<tr><td>actionscript        </td><td>16003754</td></tr>\n",
              "\t<tr><td>actionscript-2      </td><td>16003754</td></tr>\n",
              "\t<tr><td>actionscript-3      </td><td>16003754</td></tr>\n",
              "\t<tr><td>⋮</td><td>⋮</td></tr>\n",
              "\t<tr><td>botframework          </td><td>5616449</td></tr>\n",
              "\t<tr><td>create-react-app      </td><td>5616449</td></tr>\n",
              "\t<tr><td>discord               </td><td>5616449</td></tr>\n",
              "\t<tr><td>enzyme                </td><td>5616449</td></tr>\n",
              "\t<tr><td>expo                  </td><td>5616449</td></tr>\n",
              "\t<tr><td>firebase-storage      </td><td>5616449</td></tr>\n",
              "\t<tr><td>google-cloud-functions</td><td>5616449</td></tr>\n",
              "\t<tr><td>hyperledger           </td><td>5616449</td></tr>\n",
              "\t<tr><td>hyperledger-fabric    </td><td>5616449</td></tr>\n",
              "\t<tr><td>identityserver4       </td><td>5616449</td></tr>\n",
              "\t<tr><td>ionic3                </td><td>5616449</td></tr>\n",
              "\t<tr><td>odoo-10               </td><td>5616449</td></tr>\n",
              "\t<tr><td>primeng               </td><td>5616449</td></tr>\n",
              "\t<tr><td>python-3.6            </td><td>5616449</td></tr>\n",
              "\t<tr><td>raspberry-pi3         </td><td>5616449</td></tr>\n",
              "\t<tr><td>react-native-ios      </td><td>5616449</td></tr>\n",
              "\t<tr><td>react-router-v4       </td><td>5616449</td></tr>\n",
              "\t<tr><td>typescript2.0         </td><td>5616449</td></tr>\n",
              "\t<tr><td>vue-component         </td><td>5616449</td></tr>\n",
              "\t<tr><td>vue-router            </td><td>5616449</td></tr>\n",
              "\t<tr><td>vuejs2                </td><td>5616449</td></tr>\n",
              "\t<tr><td>vuex                  </td><td>5616449</td></tr>\n",
              "\t<tr><td>webpack-2             </td><td>5616449</td></tr>\n",
              "\t<tr><td>arkit                 </td><td>5035781</td></tr>\n",
              "\t<tr><td>android-room          </td><td>3390377</td></tr>\n",
              "\t<tr><td>android-studio-3.0    </td><td>3390377</td></tr>\n",
              "\t<tr><td>dialogflow            </td><td>3390377</td></tr>\n",
              "\t<tr><td>google-cloud-firestore</td><td>3390377</td></tr>\n",
              "\t<tr><td>hyperledger-composer  </td><td>3390377</td></tr>\n",
              "\t<tr><td>react-navigation      </td><td>3390377</td></tr>\n",
              "</tbody>\n",
              "</table>\n"
            ],
            "text/markdown": "\nA tibble: 4080 × 2\n\n| tag &lt;chr&gt; | tag_total &lt;dbl&gt; |\n|---|---|\n| .htaccess            | 16003754 |\n| .net                 | 16003754 |\n| .net-2.0             | 16003754 |\n| .net-3.5             | 16003754 |\n| .net-4.0             | 16003754 |\n| .net-assembly        | 16003754 |\n| 2d                   | 16003754 |\n| 32-bit               | 16003754 |\n| 32bit-64bit          | 16003754 |\n| 3d                   | 16003754 |\n| 64bit                | 16003754 |\n| abap                 | 16003754 |\n| absolute             | 16003754 |\n| abstract             | 16003754 |\n| abstract-class       | 16003754 |\n| abstract-syntax-tree | 16003754 |\n| accelerometer        | 16003754 |\n| access-control       | 16003754 |\n| access-vba           | 16003754 |\n| access-violation     | 16003754 |\n| accessibility        | 16003754 |\n| accordion            | 16003754 |\n| acl                  | 16003754 |\n| acrobat              | 16003754 |\n| action               | 16003754 |\n| actionlistener       | 16003754 |\n| actionmailer         | 16003754 |\n| actionscript         | 16003754 |\n| actionscript-2       | 16003754 |\n| actionscript-3       | 16003754 |\n| ⋮ | ⋮ |\n| botframework           | 5616449 |\n| create-react-app       | 5616449 |\n| discord                | 5616449 |\n| enzyme                 | 5616449 |\n| expo                   | 5616449 |\n| firebase-storage       | 5616449 |\n| google-cloud-functions | 5616449 |\n| hyperledger            | 5616449 |\n| hyperledger-fabric     | 5616449 |\n| identityserver4        | 5616449 |\n| ionic3                 | 5616449 |\n| odoo-10                | 5616449 |\n| primeng                | 5616449 |\n| python-3.6             | 5616449 |\n| raspberry-pi3          | 5616449 |\n| react-native-ios       | 5616449 |\n| react-router-v4        | 5616449 |\n| typescript2.0          | 5616449 |\n| vue-component          | 5616449 |\n| vue-router             | 5616449 |\n| vuejs2                 | 5616449 |\n| vuex                   | 5616449 |\n| webpack-2              | 5616449 |\n| arkit                  | 5035781 |\n| android-room           | 3390377 |\n| android-studio-3.0     | 3390377 |\n| dialogflow             | 3390377 |\n| google-cloud-firestore | 3390377 |\n| hyperledger-composer   | 3390377 |\n| react-navigation       | 3390377 |\n\n",
            "text/latex": "A tibble: 4080 × 2\n\\begin{tabular}{ll}\n tag & tag\\_total\\\\\n <chr> & <dbl>\\\\\n\\hline\n\t .htaccess            & 16003754\\\\\n\t .net                 & 16003754\\\\\n\t .net-2.0             & 16003754\\\\\n\t .net-3.5             & 16003754\\\\\n\t .net-4.0             & 16003754\\\\\n\t .net-assembly        & 16003754\\\\\n\t 2d                   & 16003754\\\\\n\t 32-bit               & 16003754\\\\\n\t 32bit-64bit          & 16003754\\\\\n\t 3d                   & 16003754\\\\\n\t 64bit                & 16003754\\\\\n\t abap                 & 16003754\\\\\n\t absolute             & 16003754\\\\\n\t abstract             & 16003754\\\\\n\t abstract-class       & 16003754\\\\\n\t abstract-syntax-tree & 16003754\\\\\n\t accelerometer        & 16003754\\\\\n\t access-control       & 16003754\\\\\n\t access-vba           & 16003754\\\\\n\t access-violation     & 16003754\\\\\n\t accessibility        & 16003754\\\\\n\t accordion            & 16003754\\\\\n\t acl                  & 16003754\\\\\n\t acrobat              & 16003754\\\\\n\t action               & 16003754\\\\\n\t actionlistener       & 16003754\\\\\n\t actionmailer         & 16003754\\\\\n\t actionscript         & 16003754\\\\\n\t actionscript-2       & 16003754\\\\\n\t actionscript-3       & 16003754\\\\\n\t ⋮ & ⋮\\\\\n\t botframework           & 5616449\\\\\n\t create-react-app       & 5616449\\\\\n\t discord                & 5616449\\\\\n\t enzyme                 & 5616449\\\\\n\t expo                   & 5616449\\\\\n\t firebase-storage       & 5616449\\\\\n\t google-cloud-functions & 5616449\\\\\n\t hyperledger            & 5616449\\\\\n\t hyperledger-fabric     & 5616449\\\\\n\t identityserver4        & 5616449\\\\\n\t ionic3                 & 5616449\\\\\n\t odoo-10                & 5616449\\\\\n\t primeng                & 5616449\\\\\n\t python-3.6             & 5616449\\\\\n\t raspberry-pi3          & 5616449\\\\\n\t react-native-ios       & 5616449\\\\\n\t react-router-v4        & 5616449\\\\\n\t typescript2.0          & 5616449\\\\\n\t vue-component          & 5616449\\\\\n\t vue-router             & 5616449\\\\\n\t vuejs2                 & 5616449\\\\\n\t vuex                   & 5616449\\\\\n\t webpack-2              & 5616449\\\\\n\t arkit                  & 5035781\\\\\n\t android-room           & 3390377\\\\\n\t android-studio-3.0     & 3390377\\\\\n\t dialogflow             & 3390377\\\\\n\t google-cloud-firestore & 3390377\\\\\n\t hyperledger-composer   & 3390377\\\\\n\t react-navigation       & 3390377\\\\\n\\end{tabular}\n",
            "text/plain": [
              "     tag                    tag_total\n",
              "1    .htaccess              16003754 \n",
              "2    .net                   16003754 \n",
              "3    .net-2.0               16003754 \n",
              "4    .net-3.5               16003754 \n",
              "5    .net-4.0               16003754 \n",
              "6    .net-assembly          16003754 \n",
              "7    2d                     16003754 \n",
              "8    32-bit                 16003754 \n",
              "9    32bit-64bit            16003754 \n",
              "10   3d                     16003754 \n",
              "11   64bit                  16003754 \n",
              "12   abap                   16003754 \n",
              "13   absolute               16003754 \n",
              "14   abstract               16003754 \n",
              "15   abstract-class         16003754 \n",
              "16   abstract-syntax-tree   16003754 \n",
              "17   accelerometer          16003754 \n",
              "18   access-control         16003754 \n",
              "19   access-vba             16003754 \n",
              "20   access-violation       16003754 \n",
              "21   accessibility          16003754 \n",
              "22   accordion              16003754 \n",
              "23   acl                    16003754 \n",
              "24   acrobat                16003754 \n",
              "25   action                 16003754 \n",
              "26   actionlistener         16003754 \n",
              "27   actionmailer           16003754 \n",
              "28   actionscript           16003754 \n",
              "29   actionscript-2         16003754 \n",
              "30   actionscript-3         16003754 \n",
              "⋮    ⋮                      ⋮        \n",
              "4051 botframework           5616449  \n",
              "4052 create-react-app       5616449  \n",
              "4053 discord                5616449  \n",
              "4054 enzyme                 5616449  \n",
              "4055 expo                   5616449  \n",
              "4056 firebase-storage       5616449  \n",
              "4057 google-cloud-functions 5616449  \n",
              "4058 hyperledger            5616449  \n",
              "4059 hyperledger-fabric     5616449  \n",
              "4060 identityserver4        5616449  \n",
              "4061 ionic3                 5616449  \n",
              "4062 odoo-10                5616449  \n",
              "4063 primeng                5616449  \n",
              "4064 python-3.6             5616449  \n",
              "4065 raspberry-pi3          5616449  \n",
              "4066 react-native-ios       5616449  \n",
              "4067 react-router-v4        5616449  \n",
              "4068 typescript2.0          5616449  \n",
              "4069 vue-component          5616449  \n",
              "4070 vue-router             5616449  \n",
              "4071 vuejs2                 5616449  \n",
              "4072 vuex                   5616449  \n",
              "4073 webpack-2              5616449  \n",
              "4074 arkit                  5035781  \n",
              "4075 android-room           3390377  \n",
              "4076 android-studio-3.0     3390377  \n",
              "4077 dialogflow             3390377  \n",
              "4078 google-cloud-firestore 3390377  \n",
              "4079 hyperledger-composer   3390377  \n",
              "4080 react-navigation       3390377  "
            ]
          },
          "metadata": {}
        }
      ]
    },
    {
      "cell_type": "markdown",
      "source": [
        "How have large programming languages changed over time?"
      ],
      "metadata": {
        "id": "JWbUOXP8BNDD"
      }
    },
    {
      "cell_type": "markdown",
      "source": [
        "We've looked at selected tags like R, ggplot2, and dplyr, and seen that they're each growing. What tags might be shrinking? A good place to start is to plot the tags that we just saw that were the most-asked about of all time, including JavaScript, Java and C#."
      ],
      "metadata": {
        "id": "vb0eAWWZBRo4"
      }
    },
    {
      "cell_type": "code",
      "source": [
        "# Get the six largest tags\n",
        "highest_tags <- head(sorted_tags$tag)\n",
        "\n",
        "# Filter for the six largest tags\n",
        "by_tag_subset <- by_tag_year_fraction %>%\n",
        "    filter(tag %in% highest_tags)\n",
        "\n",
        "# Plot tags over time on a line plot using color to represent tag\n",
        "ggplot(by_tag_subset, aes(x=year, y=fraction, color=tag)) +\n",
        "    geom_line()"
      ],
      "metadata": {
        "colab": {
          "base_uri": "https://localhost:8080/",
          "height": 257
        },
        "id": "ceEZvVLdBSks",
        "outputId": "8f0df134-ac7a-4e51-8b12-bf25eb351ed2"
      },
      "execution_count": 33,
      "outputs": [
        {
          "output_type": "display_data",
          "data": {
            "text/plain": [
              "plot without title"
            ],
            "image/png": "[encoded data removed]"
          },
          "metadata": {
            "image/png": {
              "width": 240,
              "height": 240
            }
          }
        }
      ]
    },
    {
      "cell_type": "markdown",
      "source": [
        "Some more tags!"
      ],
      "metadata": {
        "id": "Ie_ojPPnBeDh"
      }
    },
    {
      "cell_type": "markdown",
      "source": [
        "let's check out how three big mobile operating systems (Android, iOS, and Windows Phone) have compared in popularity over time. But remember: this code can be modified simply by changing the tag names!"
      ],
      "metadata": {
        "id": "Ootd3KwCBlDe"
      }
    },
    {
      "cell_type": "code",
      "source": [
        "\n",
        "# Get tags of interest\n",
        "my_tags <- c('android', 'ios', 'windows-phone')\n",
        "\n",
        "# Filter for those tags\n",
        "by_tag_subset <- by_tag_year_fraction %>%\n",
        "    filter(tag %in% my_tags)\n",
        "\n",
        "# Plot tags over time on a line plot using color to represent tag\n",
        "ggplot(by_tag_subset, aes(x=year, y=fraction, color=tag)) +\n",
        "    geom_line()"
      ],
      "metadata": {
        "colab": {
          "base_uri": "https://localhost:8080/",
          "height": 257
        },
        "id": "JQ3cKVGfBnqw",
        "outputId": "81a2e46e-8010-4166-b712-cd3315fc196f"
      },
      "execution_count": 34,
      "outputs": [
        {
          "output_type": "display_data",
          "data": {
            "text/plain": [
              "plot without title"
            ],
            "image/png": "[encoded data removed]"
          },
          "metadata": {
            "image/png": {
              "width": 240,
              "height": 240
            }
          }
        }
      ]
    }
  ]
}